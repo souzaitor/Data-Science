{
 "cells": [
  {
   "cell_type": "markdown",
   "id": "91b16f35-b9c4-4083-acbc-6088835c4672",
   "metadata": {},
   "source": [
    "# 💻 Sistema de Recomendação de Animes\n",
    "***"
   ]
  },
  {
   "cell_type": "markdown",
   "id": "fcec831e",
   "metadata": {
    "papermill": {
     "duration": 0.024416,
     "end_time": "2021-12-05T07:53:15.793942",
     "exception": false,
     "start_time": "2021-12-05T07:53:15.769526",
     "status": "completed"
    },
    "tags": []
   },
   "source": [
    "Os sistemas de recomendação são os sistemas projetados para recomendar coisas ao usuário com base em muitos fatores diferentes. Esses sistemas preveem o produto mais provável que os usuários provavelmente comprarão e são de interesse, utilizando uma série de algoritmos, análise de dados e inteligência artificial (IA). Empresas como Netflix, Amazon, etc. usam sistemas de recomendação para ajudar seus usuários a identificar o produto ou os filmes corretos para eles.\n",
    "\n",
    "Sistemas de recomendação lidam com um grande volume de informações presentes filtrando as informações mais importantes com base nos dados fornecidos por um usuário e outros fatores que atendem à preferência e interesse do usuário. Ele descobre a correspondência entre usuário e item e imputa as semelhanças entre usuários e itens para recomendação.\n",
    "\n",
    "Esse sistema implementa um sistema de **Recomendações Colaborativas de Animes**: O usuário receberá recomendações de animes que pessoas com gostos similares aos dele preferiram no passado. "
   ]
  },
  {
   "cell_type": "markdown",
   "id": "c10cb783-27b1-49b5-95a0-0f424354eed7",
   "metadata": {},
   "source": [
    "## 📚 Bibliotecas"
   ]
  },
  {
   "cell_type": "code",
   "execution_count": 98,
   "id": "35ffcbe3",
   "metadata": {
    "papermill": {
     "duration": 1.014373,
     "end_time": "2021-12-05T07:53:16.823789",
     "exception": false,
     "start_time": "2021-12-05T07:53:15.809416",
     "status": "completed"
    },
    "tags": []
   },
   "outputs": [],
   "source": [
    "import pandas as pd\n",
    "import numpy as np\n",
    "import seaborn as sns\n",
    "import matplotlib.pyplot as plt\n",
    "import requests\n",
    "from io import StringIO\n",
    "import scipy as sp\n",
    "from scipy.sparse import csr_matrix\n",
    "from sklearn.metrics.pairwise import cosine_similarity\n",
    "\n",
    "from ipywidgets import widgets, HBox, Layout\n",
    "from IPython.display import display"
   ]
  },
  {
   "cell_type": "markdown",
   "id": "77635dcb-f3dd-4720-b5c7-e2789c320d40",
   "metadata": {},
   "source": [
    "## 💾 Conjuto de Dados"
   ]
  },
  {
   "cell_type": "markdown",
   "id": "30202195-c07b-4781-9f4f-c30d25ec2473",
   "metadata": {},
   "source": [
    "O Anime-Recommendation-Database-2020, conjunto de dados utilizado no projeto, reúne dados de recomendação de   320.0000 usuários e 16.000 animes do site myanimelist.net.\n",
    "\n",
    "**MyAnimeList**, muitas vezes abreviado para MAL, é uma rede social focado nos consumidores de animes e mangás, na qual possui como maior característica a possibilidade de seus usuários criarem uma lista pessoal para que possam catalogar as obras e classificar-las através de notas.\n",
    "\n",
    "Informações detalhadas sobre o cojunto de dados podem ser encontradas em: https://www.kaggle.com/hernan4444/anime-recommendation-database-2020.\n",
    "\n",
    "Dois dataframes serão utilizados, ```animelist.csv``` e ```anime.csv```."
   ]
  },
  {
   "cell_type": "markdown",
   "id": "eb850356-545b-4b13-aaef-b3d3ced7289a",
   "metadata": {},
   "source": [
    "### 💾 Dataframe anime"
   ]
  },
  {
   "cell_type": "markdown",
   "id": "7ebee4f8-f36c-416d-a6cd-2d10461c80c2",
   "metadata": {},
   "source": [
    "```anime.csv``` contém informações gerais de todos os animes (17.562 animes diferentes) incluindo gênero, estatísticas, estúdio, etc. Este arquivo tem as seguintes colunas:\n",
    "\n",
    "| Column         | Description                                                                                           |\n",
    "|----------------|-------------------------------------------------------------------------------------------------------|\n",
    "| MAL_ID         | MyAnimelist ID of the anime. (e.g. 1)                                                                 |\n",
    "| Name           | full name of the anime. (e.g. Cowboy Bebop)                                                           |\n",
    "| Score          | average score of the anime given from all users in MyAnimelist database. (e.g. 8.78)                  |\n",
    "| Genres         | comma separated list of genres for this anime. (e.g. Action, Adventure, Comedy, Drama, Sci-Fi, Space) |\n",
    "| English name   | full name in english of the anime. (e.g. Cowboy Bebop)                                                |\n",
    "| Japanese name  | full name in japanses of the anime. (e.g. カウボーイビバップ)                                                  |\n",
    "| Type           | TV, movie, OVA, etc. (e.g. TV)                                                                        |\n",
    "| Episodes'      | number of chapters. (e.g. 26)                                                                         |\n",
    "| Aired          | broadcast date. (e.g. Apr 3, 1998 to Apr 24, 1999)                                                    |\n",
    "| Premiered      | season premiere. (e.g. Spring 1998)                                                                   |\n",
    "| Producers      | comma separated list of produducers (e.g. Bandai Visual)                                              |\n",
    "| Licensors      | comma separated list of licensors (e.g. Funimation, Bandai Entertainment)                             |\n",
    "| Studios        | comma separated list of studios (e.g. Sunrise)                                                        |\n",
    "| Source         | Manga, Light novel, Book, etc. (e.g Original)                                                         |\n",
    "| Duration       | duration of the anime per episode (e.g 24 min. per ep.)                                               |\n",
    "| Rating         | age rate (e.g. R - 17+ (violence & profanity))                                                        |\n",
    "| Ranked         | position based in the score. (e.g 28)                                                                 |\n",
    "| Popularity     | position based in the the number of users who have added the anime to their list. (e.g 39)            |\n",
    "| Members        | number of community members that are in this anime's \"group\". (e.g. 1251960)                          |\n",
    "| Favorites      | number of users who have the anime as \"favorites\". (e.g. 61,971)                                      |\n",
    "| Watching       | number of users who are watching the anime. (e.g. 105808)                                             |\n",
    "| Completed      | number of users who have complete the anime. (e.g. 718161)                                            |\n",
    "| On-Hold        | number of users who have the anime on Hold. (e.g. 71513)                                              |\n",
    "| Dropped        | number of users who have dropped the anime. (e.g. 26678)                                              |\n",
    "| Plan to Watch' | number of users who plan to watch the anime. (e.g. 329800)                                            |\n",
    "| Score-10'      | number of users who scored 10. (e.g. 229170)                                                          |\n",
    "| Score-9'       | number of users who scored 9. (e.g. 182126)                                                           |\n",
    "| Score-8'       | number of users who scored 8. (e.g. 131625)                                                           |\n",
    "| Score-7'       | number of users who scored 7. (e.g. 62330)                                                            |\n",
    "| Score-6'       | number of users who scored 6. (e.g. 20688)                                                            |\n",
    "| Score-5'       | number of users who scored 5. (e.g. 8904)                                                             |\n",
    "| Score-4'       | number of users who scored 4. (e.g. 3184)                                                             |\n",
    "| Score-3'       | number of users who scored 3. (e.g. 1357)                                                             |\n",
    "| Score-2'       | number of users who scored 2. (e.g. 741)                                                              |\n",
    "| Score-1'       | number of users who scored 1. (e.g. 1580)                                                             |\n",
    "\n",
    "De acordo com a documentação do [repositório no GitHub](https://github.com/Hernan4444/MyAnimeList-Database), o arquivo pode ser acessado pelo Google Drive."
   ]
  },
  {
   "cell_type": "code",
   "execution_count": 99,
   "id": "f0458704-e07a-4536-8ced-33cbbabbe41d",
   "metadata": {},
   "outputs": [],
   "source": [
    "# Importar anime.csv\n",
    "url = 'https://drive.google.com/file/d/1vfmfi4dGAXBp0T8QTNVYhA5g8_irNbKs/view?usp=sharing'\n",
    "id_arquivo = url.split('/')[-2]\n",
    "dwn_url = 'https://drive.google.com/uc?export=download&id=' + id_arquivo\n",
    "url2 = requests.get(dwn_url).text\n",
    "csv_raw = StringIO(url2)\n",
    "anime_df = pd.read_csv(csv_raw) # anima_data -> anime_df"
   ]
  },
  {
   "cell_type": "markdown",
   "id": "3a3f6f2b-ae81-43d9-8135-e0c7033ce51f",
   "metadata": {},
   "source": [
    "### 💾 Dataframe animelist"
   ]
  },
  {
   "cell_type": "markdown",
   "id": "b42c44e3-3989-4304-b8d5-a0fc64863025",
   "metadata": {},
   "source": [
    "```animelist.csv``` tem a lista de todos os animes registrados pelo usuário com a respectiva pontuação, status de exibição e número de episódios assistidos. Este conjunto de dados contém 109 milhões de linhas, 17.562 animes diferentes e 325.772 usuários diferentes. O arquivo tem as seguintes colunas:\n",
    "\n",
    "| Column           | Description                                                                             |\n",
    "|------------------|-----------------------------------------------------------------------------------------|\n",
    "| user_id          | non identifiable randomly generated user id.                                            |\n",
    "| anime_id         | MyAnemlist ID of the anime. (e.g. 1).                                                   |\n",
    "| score            | score between 1 to 10 given by the user. 0 if the user didn't assign a score. (e.g. 10) |\n",
    "| watching_status  | state ID from this anime in the anime list of this user. (e.g. 2)                       |\n",
    "| watched_episodes | numbers of episodes watched by the user. (e.g. 24)                                      |\n",
    "\n",
    "\n",
    "\n",
    "Devido âs limitaçãoes de processamento só os primeiros 5.000.000 regitros foram usados. Se você tiver acesso a uma boa estação de trabalho, poderá usar todos os 109 milhões de registros.\n",
    "\n",
    "O arquivo csv completo pode ser baixado em: https://drive.google.com/drive/folders/1UhinqGrH2XytkpiD7LlLzMcn7MY2I_gt"
   ]
  },
  {
   "cell_type": "code",
   "execution_count": 100,
   "id": "59057034",
   "metadata": {
    "papermill": {
     "duration": 21.313513,
     "end_time": "2021-12-05T07:53:38.183293",
     "exception": false,
     "start_time": "2021-12-05T07:53:16.869780",
     "status": "completed"
    },
    "tags": []
   },
   "outputs": [],
   "source": [
    "# Importar animelist.csv\n",
    "rating_df = pd.read_csv(\"animelist.csv\", nrows=5000000)\n",
    "\n",
    "# Por motivos de eficiência, usar esses DF para usar o merge()\n",
    "anime_df = anime_df.rename(columns={\"MAL_ID\": \"anime_id\"})\n",
    "anime_contact_df = anime_df[[\"anime_id\", \"Name\"]]"
   ]
  },
  {
   "cell_type": "markdown",
   "id": "66c41772-1a35-42c1-8d3f-47c0d28779d0",
   "metadata": {},
   "source": [
    "## 📊 Processamento do Conjunto de Dados "
   ]
  },
  {
   "cell_type": "markdown",
   "id": "f2bdb0c2-760e-4eea-80a8-93ae7fdcc231",
   "metadata": {},
   "source": [
    "### 📊 Mesclar Conjunto de Dados"
   ]
  },
  {
   "cell_type": "markdown",
   "id": "6c66dd1d",
   "metadata": {
    "papermill": {
     "duration": 0.014809,
     "end_time": "2021-12-05T07:53:38.244620",
     "exception": false,
     "start_time": "2021-12-05T07:53:38.229811",
     "status": "completed"
    },
    "tags": []
   },
   "source": [
    "Aplicar a operação ```merge``` em ```rating_df``` e ```anime_contact_df``` (dados extraido de ```anime_df```) em termos do ```anime_id``` para crirar um conjunto de dados com ambas as informações."
   ]
  },
  {
   "cell_type": "code",
   "execution_count": 107,
   "id": "fb489d3c",
   "metadata": {
    "papermill": {
     "duration": 9.555769,
     "end_time": "2021-12-05T07:53:47.815691",
     "exception": false,
     "start_time": "2021-12-05T07:53:38.259922",
     "status": "completed"
    },
    "tags": []
   },
   "outputs": [
    {
     "ename": "KeyError",
     "evalue": "\"['Name'] not in index\"",
     "output_type": "error",
     "traceback": [
      "\u001b[1;31m---------------------------------------------------------------------------\u001b[0m",
      "\u001b[1;31mKeyError\u001b[0m                                  Traceback (most recent call last)",
      "\u001b[1;32m~\\AppData\\Local\\Temp/ipykernel_13640/1866877951.py\u001b[0m in \u001b[0;36m<module>\u001b[1;34m\u001b[0m\n\u001b[0;32m      1\u001b[0m \u001b[1;31m# Mesclar Dataframes\u001b[0m\u001b[1;33m\u001b[0m\u001b[1;33m\u001b[0m\u001b[1;33m\u001b[0m\u001b[0m\n\u001b[0;32m      2\u001b[0m \u001b[0mrating_df\u001b[0m \u001b[1;33m=\u001b[0m \u001b[0mrating_df\u001b[0m\u001b[1;33m.\u001b[0m\u001b[0mmerge\u001b[0m\u001b[1;33m(\u001b[0m\u001b[0manime_contact_df\u001b[0m\u001b[1;33m,\u001b[0m \u001b[0mleft_on\u001b[0m \u001b[1;33m=\u001b[0m \u001b[1;34m'anime_id'\u001b[0m\u001b[1;33m,\u001b[0m \u001b[0mright_on\u001b[0m \u001b[1;33m=\u001b[0m \u001b[1;34m'anime_id'\u001b[0m\u001b[1;33m,\u001b[0m \u001b[0mhow\u001b[0m \u001b[1;33m=\u001b[0m \u001b[1;34m'left'\u001b[0m\u001b[1;33m)\u001b[0m\u001b[1;33m\u001b[0m\u001b[1;33m\u001b[0m\u001b[0m\n\u001b[1;32m----> 3\u001b[1;33m \u001b[0mrating_df\u001b[0m \u001b[1;33m=\u001b[0m \u001b[0mrating_df\u001b[0m\u001b[1;33m[\u001b[0m\u001b[1;33m[\u001b[0m\u001b[1;34m\"user_id\"\u001b[0m\u001b[1;33m,\u001b[0m \u001b[1;34m\"Name\"\u001b[0m\u001b[1;33m,\u001b[0m \u001b[1;34m\"anime_id\"\u001b[0m\u001b[1;33m,\u001b[0m\u001b[1;34m\"rating\"\u001b[0m\u001b[1;33m,\u001b[0m \u001b[1;34m\"watching_status\"\u001b[0m\u001b[1;33m,\u001b[0m \u001b[1;34m\"watched_episodes\"\u001b[0m\u001b[1;33m]\u001b[0m\u001b[1;33m]\u001b[0m\u001b[1;33m\u001b[0m\u001b[1;33m\u001b[0m\u001b[0m\n\u001b[0m",
      "\u001b[1;32mc:\\users\\heitor\\appdata\\local\\programs\\python\\python39\\lib\\site-packages\\pandas\\core\\frame.py\u001b[0m in \u001b[0;36m__getitem__\u001b[1;34m(self, key)\u001b[0m\n\u001b[0;32m   3462\u001b[0m             \u001b[1;32mif\u001b[0m \u001b[0mis_iterator\u001b[0m\u001b[1;33m(\u001b[0m\u001b[0mkey\u001b[0m\u001b[1;33m)\u001b[0m\u001b[1;33m:\u001b[0m\u001b[1;33m\u001b[0m\u001b[1;33m\u001b[0m\u001b[0m\n\u001b[0;32m   3463\u001b[0m                 \u001b[0mkey\u001b[0m \u001b[1;33m=\u001b[0m \u001b[0mlist\u001b[0m\u001b[1;33m(\u001b[0m\u001b[0mkey\u001b[0m\u001b[1;33m)\u001b[0m\u001b[1;33m\u001b[0m\u001b[1;33m\u001b[0m\u001b[0m\n\u001b[1;32m-> 3464\u001b[1;33m             \u001b[0mindexer\u001b[0m \u001b[1;33m=\u001b[0m \u001b[0mself\u001b[0m\u001b[1;33m.\u001b[0m\u001b[0mloc\u001b[0m\u001b[1;33m.\u001b[0m\u001b[0m_get_listlike_indexer\u001b[0m\u001b[1;33m(\u001b[0m\u001b[0mkey\u001b[0m\u001b[1;33m,\u001b[0m \u001b[0maxis\u001b[0m\u001b[1;33m=\u001b[0m\u001b[1;36m1\u001b[0m\u001b[1;33m)\u001b[0m\u001b[1;33m[\u001b[0m\u001b[1;36m1\u001b[0m\u001b[1;33m]\u001b[0m\u001b[1;33m\u001b[0m\u001b[1;33m\u001b[0m\u001b[0m\n\u001b[0m\u001b[0;32m   3465\u001b[0m \u001b[1;33m\u001b[0m\u001b[0m\n\u001b[0;32m   3466\u001b[0m         \u001b[1;31m# take() does not accept boolean indexers\u001b[0m\u001b[1;33m\u001b[0m\u001b[1;33m\u001b[0m\u001b[1;33m\u001b[0m\u001b[0m\n",
      "\u001b[1;32mc:\\users\\heitor\\appdata\\local\\programs\\python\\python39\\lib\\site-packages\\pandas\\core\\indexing.py\u001b[0m in \u001b[0;36m_get_listlike_indexer\u001b[1;34m(self, key, axis)\u001b[0m\n\u001b[0;32m   1312\u001b[0m             \u001b[0mkeyarr\u001b[0m\u001b[1;33m,\u001b[0m \u001b[0mindexer\u001b[0m\u001b[1;33m,\u001b[0m \u001b[0mnew_indexer\u001b[0m \u001b[1;33m=\u001b[0m \u001b[0max\u001b[0m\u001b[1;33m.\u001b[0m\u001b[0m_reindex_non_unique\u001b[0m\u001b[1;33m(\u001b[0m\u001b[0mkeyarr\u001b[0m\u001b[1;33m)\u001b[0m\u001b[1;33m\u001b[0m\u001b[1;33m\u001b[0m\u001b[0m\n\u001b[0;32m   1313\u001b[0m \u001b[1;33m\u001b[0m\u001b[0m\n\u001b[1;32m-> 1314\u001b[1;33m         \u001b[0mself\u001b[0m\u001b[1;33m.\u001b[0m\u001b[0m_validate_read_indexer\u001b[0m\u001b[1;33m(\u001b[0m\u001b[0mkeyarr\u001b[0m\u001b[1;33m,\u001b[0m \u001b[0mindexer\u001b[0m\u001b[1;33m,\u001b[0m \u001b[0maxis\u001b[0m\u001b[1;33m)\u001b[0m\u001b[1;33m\u001b[0m\u001b[1;33m\u001b[0m\u001b[0m\n\u001b[0m\u001b[0;32m   1315\u001b[0m \u001b[1;33m\u001b[0m\u001b[0m\n\u001b[0;32m   1316\u001b[0m         if needs_i8_conversion(ax.dtype) or isinstance(\n",
      "\u001b[1;32mc:\\users\\heitor\\appdata\\local\\programs\\python\\python39\\lib\\site-packages\\pandas\\core\\indexing.py\u001b[0m in \u001b[0;36m_validate_read_indexer\u001b[1;34m(self, key, indexer, axis)\u001b[0m\n\u001b[0;32m   1375\u001b[0m \u001b[1;33m\u001b[0m\u001b[0m\n\u001b[0;32m   1376\u001b[0m             \u001b[0mnot_found\u001b[0m \u001b[1;33m=\u001b[0m \u001b[0mlist\u001b[0m\u001b[1;33m(\u001b[0m\u001b[0mensure_index\u001b[0m\u001b[1;33m(\u001b[0m\u001b[0mkey\u001b[0m\u001b[1;33m)\u001b[0m\u001b[1;33m[\u001b[0m\u001b[0mmissing_mask\u001b[0m\u001b[1;33m.\u001b[0m\u001b[0mnonzero\u001b[0m\u001b[1;33m(\u001b[0m\u001b[1;33m)\u001b[0m\u001b[1;33m[\u001b[0m\u001b[1;36m0\u001b[0m\u001b[1;33m]\u001b[0m\u001b[1;33m]\u001b[0m\u001b[1;33m.\u001b[0m\u001b[0munique\u001b[0m\u001b[1;33m(\u001b[0m\u001b[1;33m)\u001b[0m\u001b[1;33m)\u001b[0m\u001b[1;33m\u001b[0m\u001b[1;33m\u001b[0m\u001b[0m\n\u001b[1;32m-> 1377\u001b[1;33m             \u001b[1;32mraise\u001b[0m \u001b[0mKeyError\u001b[0m\u001b[1;33m(\u001b[0m\u001b[1;34mf\"{not_found} not in index\"\u001b[0m\u001b[1;33m)\u001b[0m\u001b[1;33m\u001b[0m\u001b[1;33m\u001b[0m\u001b[0m\n\u001b[0m\u001b[0;32m   1378\u001b[0m \u001b[1;33m\u001b[0m\u001b[0m\n\u001b[0;32m   1379\u001b[0m \u001b[1;33m\u001b[0m\u001b[0m\n",
      "\u001b[1;31mKeyError\u001b[0m: \"['Name'] not in index\""
     ]
    }
   ],
   "source": [
    "# Mesclar Dataframes\n",
    "rating_df = rating_df.merge(anime_contact_df, left_on = 'anime_id', right_on = 'anime_id', how = 'left')\n",
    "rating_df = rating_df[[\"user_id\", \"Name\", \"anime_id\",\"rating\", \"watching_status\", \"watched_episodes\"]]"
   ]
  },
  {
   "cell_type": "code",
   "execution_count": null,
   "id": "a3682810-c8a1-4dff-9170-12074a77c9e7",
   "metadata": {},
   "outputs": [],
   "source": [
    "rating_df.head()"
   ]
  },
  {
   "cell_type": "code",
   "execution_count": null,
   "id": "4c9b27a2",
   "metadata": {
    "papermill": {
     "duration": 0.023256,
     "end_time": "2021-12-05T07:53:47.855133",
     "exception": false,
     "start_time": "2021-12-05T07:53:47.831877",
     "status": "completed"
    },
    "tags": []
   },
   "outputs": [],
   "source": [
    "rating_df.shape"
   ]
  },
  {
   "cell_type": "markdown",
   "id": "d0321db7-97c8-4e74-90bb-073fd50be660",
   "metadata": {},
   "source": [
    "### 🚫 Verificando Dados Faltantes"
   ]
  },
  {
   "cell_type": "code",
   "execution_count": null,
   "id": "6904ce24-c0a4-4f65-a9cb-a0cb3c0e1316",
   "metadata": {},
   "outputs": [],
   "source": [
    "print(\"Anime Missing Values:\\n\")\n",
    "print(anime_df.isna().sum())\n",
    "print(\"\\nRatings Missing Values:\\n\")\n",
    "print(rating_df.isna().sum())"
   ]
  },
  {
   "cell_type": "markdown",
   "id": "9fd7ebfb",
   "metadata": {
    "papermill": {
     "duration": 0.016709,
     "end_time": "2021-12-05T07:53:47.887512",
     "exception": false,
     "start_time": "2021-12-05T07:53:47.870803",
     "status": "completed"
    },
    "tags": []
   },
   "source": [
    "Now I will take only that data in which a particular anime has more than 200Votes and if a user has gave in total more than 500Votes to the anime.  "
   ]
  },
  {
   "cell_type": "code",
   "execution_count": null,
   "id": "6dbb222c",
   "metadata": {
    "papermill": {
     "duration": 7.592696,
     "end_time": "2021-12-05T07:53:55.496387",
     "exception": false,
     "start_time": "2021-12-05T07:53:47.903691",
     "status": "completed"
    },
    "tags": []
   },
   "outputs": [],
   "source": [
    "count = rating_df['user_id'].value_counts()\n",
    "count1 = rating_df['anime_id'].value_counts()\n",
    "rating_df = rating_df[rating_df['user_id'].isin(count[count >= 500].index)].copy()\n",
    "rating_df = rating_df[rating_df['anime_id'].isin(count1[count1 >= 200].index)].copy()"
   ]
  },
  {
   "cell_type": "code",
   "execution_count": null,
   "id": "e8d6bbc8",
   "metadata": {
    "papermill": {
     "duration": 0.024379,
     "end_time": "2021-12-05T07:53:55.536868",
     "exception": false,
     "start_time": "2021-12-05T07:53:55.512489",
     "status": "completed"
    },
    "tags": []
   },
   "outputs": [],
   "source": [
    "rating_df.shape"
   ]
  },
  {
   "cell_type": "markdown",
   "id": "37c09e00",
   "metadata": {
    "papermill": {
     "duration": 0.018938,
     "end_time": "2021-12-05T07:55:31.690006",
     "exception": false,
     "start_time": "2021-12-05T07:55:31.671068",
     "status": "completed"
    },
    "tags": []
   },
   "source": [
    "## 📈 Criação do Modelo"
   ]
  },
  {
   "cell_type": "markdown",
   "id": "f2fee3a9",
   "metadata": {
    "papermill": {
     "duration": 0.018659,
     "end_time": "2021-12-05T07:54:23.527478",
     "exception": false,
     "start_time": "2021-12-05T07:54:23.508819",
     "status": "completed"
    },
    "tags": []
   },
   "source": [
    "Vamos criar uma tabela dinâmica (Pivot Table) com base nas colunas ```Name``` e ```User_id``` e salvá-la em uma variável ```pivot_table```.\n",
    "\n",
    "Uma tabela dinâmica é forma de agrupar as entradas em uma tabela bidimensional que fornece uma sumarização multidimensional dos dados, nesse caso, as notas de cada usuário para um anime diferente."
   ]
  },
  {
   "cell_type": "code",
   "execution_count": 108,
   "id": "7d635466",
   "metadata": {
    "papermill": {
     "duration": 68.105922,
     "end_time": "2021-12-05T07:55:31.651812",
     "exception": false,
     "start_time": "2021-12-05T07:54:23.545890",
     "status": "completed"
    },
    "tags": []
   },
   "outputs": [
    {
     "data": {
      "text/html": [
       "<div>\n",
       "<style scoped>\n",
       "    .dataframe tbody tr th:only-of-type {\n",
       "        vertical-align: middle;\n",
       "    }\n",
       "\n",
       "    .dataframe tbody tr th {\n",
       "        vertical-align: top;\n",
       "    }\n",
       "\n",
       "    .dataframe thead th {\n",
       "        text-align: right;\n",
       "    }\n",
       "</style>\n",
       "<table border=\"1\" class=\"dataframe\">\n",
       "  <thead>\n",
       "    <tr style=\"text-align: right;\">\n",
       "      <th>user_id</th>\n",
       "      <th>6</th>\n",
       "      <th>12</th>\n",
       "      <th>17</th>\n",
       "      <th>19</th>\n",
       "      <th>21</th>\n",
       "      <th>42</th>\n",
       "      <th>44</th>\n",
       "      <th>47</th>\n",
       "      <th>53</th>\n",
       "      <th>60</th>\n",
       "      <th>...</th>\n",
       "      <th>16452</th>\n",
       "      <th>16453</th>\n",
       "      <th>16463</th>\n",
       "      <th>16471</th>\n",
       "      <th>16481</th>\n",
       "      <th>16487</th>\n",
       "      <th>16489</th>\n",
       "      <th>16492</th>\n",
       "      <th>16496</th>\n",
       "      <th>16507</th>\n",
       "    </tr>\n",
       "    <tr>\n",
       "      <th>Name</th>\n",
       "      <th></th>\n",
       "      <th></th>\n",
       "      <th></th>\n",
       "      <th></th>\n",
       "      <th></th>\n",
       "      <th></th>\n",
       "      <th></th>\n",
       "      <th></th>\n",
       "      <th></th>\n",
       "      <th></th>\n",
       "      <th></th>\n",
       "      <th></th>\n",
       "      <th></th>\n",
       "      <th></th>\n",
       "      <th></th>\n",
       "      <th></th>\n",
       "      <th></th>\n",
       "      <th></th>\n",
       "      <th></th>\n",
       "      <th></th>\n",
       "      <th></th>\n",
       "    </tr>\n",
       "  </thead>\n",
       "  <tbody>\n",
       "    <tr>\n",
       "      <th>\"Bungaku Shoujo\" Kyou no Oyatsu: Hatsukoi</th>\n",
       "      <td>0.0</td>\n",
       "      <td>0.0</td>\n",
       "      <td>0.0</td>\n",
       "      <td>0.0</td>\n",
       "      <td>0.0</td>\n",
       "      <td>0.0</td>\n",
       "      <td>0.0</td>\n",
       "      <td>0.0</td>\n",
       "      <td>281.0</td>\n",
       "      <td>0.0</td>\n",
       "      <td>...</td>\n",
       "      <td>0.0</td>\n",
       "      <td>0.0</td>\n",
       "      <td>281.0</td>\n",
       "      <td>0.0</td>\n",
       "      <td>0.0</td>\n",
       "      <td>0.0</td>\n",
       "      <td>0.0</td>\n",
       "      <td>0.0</td>\n",
       "      <td>0.0</td>\n",
       "      <td>0.0</td>\n",
       "    </tr>\n",
       "    <tr>\n",
       "      <th>\"Bungaku Shoujo\" Memoire</th>\n",
       "      <td>0.0</td>\n",
       "      <td>0.0</td>\n",
       "      <td>0.0</td>\n",
       "      <td>0.0</td>\n",
       "      <td>0.0</td>\n",
       "      <td>0.0</td>\n",
       "      <td>0.0</td>\n",
       "      <td>0.0</td>\n",
       "      <td>354.0</td>\n",
       "      <td>0.0</td>\n",
       "      <td>...</td>\n",
       "      <td>0.0</td>\n",
       "      <td>0.0</td>\n",
       "      <td>354.0</td>\n",
       "      <td>0.0</td>\n",
       "      <td>0.0</td>\n",
       "      <td>354.0</td>\n",
       "      <td>0.0</td>\n",
       "      <td>0.0</td>\n",
       "      <td>0.0</td>\n",
       "      <td>0.0</td>\n",
       "    </tr>\n",
       "    <tr>\n",
       "      <th>\"Bungaku Shoujo\" Movie</th>\n",
       "      <td>0.0</td>\n",
       "      <td>0.0</td>\n",
       "      <td>0.0</td>\n",
       "      <td>0.0</td>\n",
       "      <td>0.0</td>\n",
       "      <td>0.0</td>\n",
       "      <td>0.0</td>\n",
       "      <td>0.0</td>\n",
       "      <td>627.0</td>\n",
       "      <td>627.0</td>\n",
       "      <td>...</td>\n",
       "      <td>0.0</td>\n",
       "      <td>0.0</td>\n",
       "      <td>627.0</td>\n",
       "      <td>0.0</td>\n",
       "      <td>0.0</td>\n",
       "      <td>627.0</td>\n",
       "      <td>0.0</td>\n",
       "      <td>0.0</td>\n",
       "      <td>627.0</td>\n",
       "      <td>0.0</td>\n",
       "    </tr>\n",
       "    <tr>\n",
       "      <th>.hack//G.U. Returner</th>\n",
       "      <td>0.0</td>\n",
       "      <td>0.0</td>\n",
       "      <td>0.0</td>\n",
       "      <td>0.0</td>\n",
       "      <td>0.0</td>\n",
       "      <td>0.0</td>\n",
       "      <td>0.0</td>\n",
       "      <td>0.0</td>\n",
       "      <td>0.0</td>\n",
       "      <td>0.0</td>\n",
       "      <td>...</td>\n",
       "      <td>0.0</td>\n",
       "      <td>0.0</td>\n",
       "      <td>0.0</td>\n",
       "      <td>0.0</td>\n",
       "      <td>0.0</td>\n",
       "      <td>0.0</td>\n",
       "      <td>0.0</td>\n",
       "      <td>0.0</td>\n",
       "      <td>0.0</td>\n",
       "      <td>0.0</td>\n",
       "    </tr>\n",
       "    <tr>\n",
       "      <th>.hack//G.U. Trilogy</th>\n",
       "      <td>0.0</td>\n",
       "      <td>221.0</td>\n",
       "      <td>0.0</td>\n",
       "      <td>0.0</td>\n",
       "      <td>0.0</td>\n",
       "      <td>0.0</td>\n",
       "      <td>0.0</td>\n",
       "      <td>0.0</td>\n",
       "      <td>0.0</td>\n",
       "      <td>0.0</td>\n",
       "      <td>...</td>\n",
       "      <td>0.0</td>\n",
       "      <td>0.0</td>\n",
       "      <td>0.0</td>\n",
       "      <td>0.0</td>\n",
       "      <td>0.0</td>\n",
       "      <td>0.0</td>\n",
       "      <td>0.0</td>\n",
       "      <td>0.0</td>\n",
       "      <td>0.0</td>\n",
       "      <td>0.0</td>\n",
       "    </tr>\n",
       "    <tr>\n",
       "      <th>...</th>\n",
       "      <td>...</td>\n",
       "      <td>...</td>\n",
       "      <td>...</td>\n",
       "      <td>...</td>\n",
       "      <td>...</td>\n",
       "      <td>...</td>\n",
       "      <td>...</td>\n",
       "      <td>...</td>\n",
       "      <td>...</td>\n",
       "      <td>...</td>\n",
       "      <td>...</td>\n",
       "      <td>...</td>\n",
       "      <td>...</td>\n",
       "      <td>...</td>\n",
       "      <td>...</td>\n",
       "      <td>...</td>\n",
       "      <td>...</td>\n",
       "      <td>...</td>\n",
       "      <td>...</td>\n",
       "      <td>...</td>\n",
       "      <td>...</td>\n",
       "    </tr>\n",
       "    <tr>\n",
       "      <th>xxxHOLiC Kei</th>\n",
       "      <td>0.0</td>\n",
       "      <td>0.0</td>\n",
       "      <td>713.0</td>\n",
       "      <td>0.0</td>\n",
       "      <td>713.0</td>\n",
       "      <td>0.0</td>\n",
       "      <td>0.0</td>\n",
       "      <td>0.0</td>\n",
       "      <td>713.0</td>\n",
       "      <td>0.0</td>\n",
       "      <td>...</td>\n",
       "      <td>0.0</td>\n",
       "      <td>0.0</td>\n",
       "      <td>0.0</td>\n",
       "      <td>0.0</td>\n",
       "      <td>713.0</td>\n",
       "      <td>0.0</td>\n",
       "      <td>0.0</td>\n",
       "      <td>0.0</td>\n",
       "      <td>0.0</td>\n",
       "      <td>0.0</td>\n",
       "    </tr>\n",
       "    <tr>\n",
       "      <th>xxxHOLiC Movie: Manatsu no Yoru no Yume</th>\n",
       "      <td>0.0</td>\n",
       "      <td>0.0</td>\n",
       "      <td>464.0</td>\n",
       "      <td>0.0</td>\n",
       "      <td>0.0</td>\n",
       "      <td>0.0</td>\n",
       "      <td>0.0</td>\n",
       "      <td>0.0</td>\n",
       "      <td>464.0</td>\n",
       "      <td>0.0</td>\n",
       "      <td>...</td>\n",
       "      <td>0.0</td>\n",
       "      <td>0.0</td>\n",
       "      <td>0.0</td>\n",
       "      <td>0.0</td>\n",
       "      <td>464.0</td>\n",
       "      <td>0.0</td>\n",
       "      <td>0.0</td>\n",
       "      <td>0.0</td>\n",
       "      <td>0.0</td>\n",
       "      <td>0.0</td>\n",
       "    </tr>\n",
       "    <tr>\n",
       "      <th>xxxHOLiC Rou</th>\n",
       "      <td>0.0</td>\n",
       "      <td>0.0</td>\n",
       "      <td>462.0</td>\n",
       "      <td>0.0</td>\n",
       "      <td>0.0</td>\n",
       "      <td>0.0</td>\n",
       "      <td>0.0</td>\n",
       "      <td>0.0</td>\n",
       "      <td>462.0</td>\n",
       "      <td>0.0</td>\n",
       "      <td>...</td>\n",
       "      <td>0.0</td>\n",
       "      <td>0.0</td>\n",
       "      <td>0.0</td>\n",
       "      <td>0.0</td>\n",
       "      <td>462.0</td>\n",
       "      <td>0.0</td>\n",
       "      <td>0.0</td>\n",
       "      <td>0.0</td>\n",
       "      <td>0.0</td>\n",
       "      <td>0.0</td>\n",
       "    </tr>\n",
       "    <tr>\n",
       "      <th>xxxHOLiC Shunmuki</th>\n",
       "      <td>0.0</td>\n",
       "      <td>0.0</td>\n",
       "      <td>495.0</td>\n",
       "      <td>0.0</td>\n",
       "      <td>0.0</td>\n",
       "      <td>0.0</td>\n",
       "      <td>0.0</td>\n",
       "      <td>0.0</td>\n",
       "      <td>495.0</td>\n",
       "      <td>0.0</td>\n",
       "      <td>...</td>\n",
       "      <td>0.0</td>\n",
       "      <td>0.0</td>\n",
       "      <td>0.0</td>\n",
       "      <td>0.0</td>\n",
       "      <td>495.0</td>\n",
       "      <td>0.0</td>\n",
       "      <td>0.0</td>\n",
       "      <td>0.0</td>\n",
       "      <td>0.0</td>\n",
       "      <td>0.0</td>\n",
       "    </tr>\n",
       "    <tr>\n",
       "      <th>ÄlDLIVE</th>\n",
       "      <td>0.0</td>\n",
       "      <td>0.0</td>\n",
       "      <td>0.0</td>\n",
       "      <td>0.0</td>\n",
       "      <td>0.0</td>\n",
       "      <td>0.0</td>\n",
       "      <td>0.0</td>\n",
       "      <td>0.0</td>\n",
       "      <td>0.0</td>\n",
       "      <td>0.0</td>\n",
       "      <td>...</td>\n",
       "      <td>0.0</td>\n",
       "      <td>0.0</td>\n",
       "      <td>0.0</td>\n",
       "      <td>0.0</td>\n",
       "      <td>0.0</td>\n",
       "      <td>352.0</td>\n",
       "      <td>0.0</td>\n",
       "      <td>0.0</td>\n",
       "      <td>0.0</td>\n",
       "      <td>0.0</td>\n",
       "    </tr>\n",
       "  </tbody>\n",
       "</table>\n",
       "<p>4046 rows × 3101 columns</p>\n",
       "</div>"
      ],
      "text/plain": [
       "user_id                                    6      12     17     19     21     \\\n",
       "Name                                                                           \n",
       "\"Bungaku Shoujo\" Kyou no Oyatsu: Hatsukoi    0.0    0.0    0.0    0.0    0.0   \n",
       "\"Bungaku Shoujo\" Memoire                     0.0    0.0    0.0    0.0    0.0   \n",
       "\"Bungaku Shoujo\" Movie                       0.0    0.0    0.0    0.0    0.0   \n",
       ".hack//G.U. Returner                         0.0    0.0    0.0    0.0    0.0   \n",
       ".hack//G.U. Trilogy                          0.0  221.0    0.0    0.0    0.0   \n",
       "...                                          ...    ...    ...    ...    ...   \n",
       "xxxHOLiC Kei                                 0.0    0.0  713.0    0.0  713.0   \n",
       "xxxHOLiC Movie: Manatsu no Yoru no Yume      0.0    0.0  464.0    0.0    0.0   \n",
       "xxxHOLiC Rou                                 0.0    0.0  462.0    0.0    0.0   \n",
       "xxxHOLiC Shunmuki                            0.0    0.0  495.0    0.0    0.0   \n",
       "ÄlDLIVE                                     0.0    0.0    0.0    0.0    0.0   \n",
       "\n",
       "user_id                                    42     44     47     53     60     \\\n",
       "Name                                                                           \n",
       "\"Bungaku Shoujo\" Kyou no Oyatsu: Hatsukoi    0.0    0.0    0.0  281.0    0.0   \n",
       "\"Bungaku Shoujo\" Memoire                     0.0    0.0    0.0  354.0    0.0   \n",
       "\"Bungaku Shoujo\" Movie                       0.0    0.0    0.0  627.0  627.0   \n",
       ".hack//G.U. Returner                         0.0    0.0    0.0    0.0    0.0   \n",
       ".hack//G.U. Trilogy                          0.0    0.0    0.0    0.0    0.0   \n",
       "...                                          ...    ...    ...    ...    ...   \n",
       "xxxHOLiC Kei                                 0.0    0.0    0.0  713.0    0.0   \n",
       "xxxHOLiC Movie: Manatsu no Yoru no Yume      0.0    0.0    0.0  464.0    0.0   \n",
       "xxxHOLiC Rou                                 0.0    0.0    0.0  462.0    0.0   \n",
       "xxxHOLiC Shunmuki                            0.0    0.0    0.0  495.0    0.0   \n",
       "ÄlDLIVE                                     0.0    0.0    0.0    0.0    0.0   \n",
       "\n",
       "user_id                                    ...  16452  16453  16463  16471  \\\n",
       "Name                                       ...                               \n",
       "\"Bungaku Shoujo\" Kyou no Oyatsu: Hatsukoi  ...    0.0    0.0  281.0    0.0   \n",
       "\"Bungaku Shoujo\" Memoire                   ...    0.0    0.0  354.0    0.0   \n",
       "\"Bungaku Shoujo\" Movie                     ...    0.0    0.0  627.0    0.0   \n",
       ".hack//G.U. Returner                       ...    0.0    0.0    0.0    0.0   \n",
       ".hack//G.U. Trilogy                        ...    0.0    0.0    0.0    0.0   \n",
       "...                                        ...    ...    ...    ...    ...   \n",
       "xxxHOLiC Kei                               ...    0.0    0.0    0.0    0.0   \n",
       "xxxHOLiC Movie: Manatsu no Yoru no Yume    ...    0.0    0.0    0.0    0.0   \n",
       "xxxHOLiC Rou                               ...    0.0    0.0    0.0    0.0   \n",
       "xxxHOLiC Shunmuki                          ...    0.0    0.0    0.0    0.0   \n",
       "ÄlDLIVE                                   ...    0.0    0.0    0.0    0.0   \n",
       "\n",
       "user_id                                    16481  16487  16489  16492  16496  \\\n",
       "Name                                                                           \n",
       "\"Bungaku Shoujo\" Kyou no Oyatsu: Hatsukoi    0.0    0.0    0.0    0.0    0.0   \n",
       "\"Bungaku Shoujo\" Memoire                     0.0  354.0    0.0    0.0    0.0   \n",
       "\"Bungaku Shoujo\" Movie                       0.0  627.0    0.0    0.0  627.0   \n",
       ".hack//G.U. Returner                         0.0    0.0    0.0    0.0    0.0   \n",
       ".hack//G.U. Trilogy                          0.0    0.0    0.0    0.0    0.0   \n",
       "...                                          ...    ...    ...    ...    ...   \n",
       "xxxHOLiC Kei                               713.0    0.0    0.0    0.0    0.0   \n",
       "xxxHOLiC Movie: Manatsu no Yoru no Yume    464.0    0.0    0.0    0.0    0.0   \n",
       "xxxHOLiC Rou                               462.0    0.0    0.0    0.0    0.0   \n",
       "xxxHOLiC Shunmuki                          495.0    0.0    0.0    0.0    0.0   \n",
       "ÄlDLIVE                                     0.0  352.0    0.0    0.0    0.0   \n",
       "\n",
       "user_id                                    16507  \n",
       "Name                                              \n",
       "\"Bungaku Shoujo\" Kyou no Oyatsu: Hatsukoi    0.0  \n",
       "\"Bungaku Shoujo\" Memoire                     0.0  \n",
       "\"Bungaku Shoujo\" Movie                       0.0  \n",
       ".hack//G.U. Returner                         0.0  \n",
       ".hack//G.U. Trilogy                          0.0  \n",
       "...                                          ...  \n",
       "xxxHOLiC Kei                                 0.0  \n",
       "xxxHOLiC Movie: Manatsu no Yoru no Yume      0.0  \n",
       "xxxHOLiC Rou                                 0.0  \n",
       "xxxHOLiC Shunmuki                            0.0  \n",
       "ÄlDLIVE                                     0.0  \n",
       "\n",
       "[4046 rows x 3101 columns]"
      ]
     },
     "execution_count": 108,
     "metadata": {},
     "output_type": "execute_result"
    }
   ],
   "source": [
    "pivot_table = rating_data.pivot_table(index=\"Name\",columns=\"user_id\", values=\"rating\").fillna(0)\n",
    "pivot_table"
   ]
  },
  {
   "cell_type": "markdown",
   "id": "8f1f844b-87f7-4182-af10-4c4c8d98bf26",
   "metadata": {},
   "source": [
    "A **similaridade por cosseno** é uma medida de similaridade de entre dois vetores num espaço vetorial que avalia o valor do cosseno do ângulo compreendido entre eles. Esta função trigonométrica proporciona um valor igual a 1 se o ângulo compreendido é zero, isto é se ambos vetores apontam a um mesmo lugar. Para qualquer ângulo diferente de 0, o valor de cosseno é inferior a um.\n",
    "\n",
    "Uma tabela dinâmica é bidimensional, então enxergando as colunas como vetores, podemos usar a similaridade por cosseno para relacionar os animes"
   ]
  },
  {
   "cell_type": "code",
   "execution_count": 109,
   "id": "62fe6421",
   "metadata": {
    "papermill": {
     "duration": 8.817056,
     "end_time": "2021-12-05T07:55:40.564805",
     "exception": false,
     "start_time": "2021-12-05T07:55:31.747749",
     "status": "completed"
    },
    "tags": []
   },
   "outputs": [],
   "source": [
    "# Transforma a matriz em uma matriz esparação para otimizar as operações\n",
    "pivot_table_csr = csr_matrix(pivot_table.values)"
   ]
  },
  {
   "cell_type": "code",
   "execution_count": 110,
   "id": "a20f4137-e469-4657-b8b8-4a4f5217a7b7",
   "metadata": {},
   "outputs": [],
   "source": [
    "# Modelo de Similaridade entre os Animes\n",
    "anime_similarity = cosine_similarity(pivot_table_csr)"
   ]
  },
  {
   "cell_type": "code",
   "execution_count": 111,
   "id": "002a704a-6788-4576-8933-886db132b10a",
   "metadata": {},
   "outputs": [],
   "source": [
    "# DataFrame de Similaridade entre os Animes\n",
    "ani_sim_df = pd.DataFrame(anime_similarity, index = pivot_table.index, columns = pivot_table.index)"
   ]
  },
  {
   "cell_type": "code",
   "execution_count": 112,
   "id": "b7db8fc6-55cb-4a3a-9cfe-a487aeee0b03",
   "metadata": {},
   "outputs": [],
   "source": [
    "def anime_recommendation(ani_name):\n",
    "    \"\"\"\n",
    "    This function will return the top 5 shows with the highest cosine similarity value and show match percent              \n",
    "    \"\"\"\n",
    "    if ani_name in ani_sim_df:\n",
    "        number = 1\n",
    "        print('Recomendados porque você assistiu {}:\\n'.format(ani_name))\n",
    "        for anime in ani_sim_df.sort_values(by = ani_name, ascending = False).index[1:6]:\n",
    "            print(f'#{number}: {anime}, {round(ani_sim_df[anime][ani_name]*100,2)}% de similaridade')\n",
    "            number +=1  \n",
    "    else:\n",
    "        print('ERRO: {} não é um nome de anime válido ou não se encontra no conjunto de dados.\\n'.format(ani_name)) "
   ]
  },
  {
   "cell_type": "markdown",
   "id": "e351794d",
   "metadata": {
    "papermill": {
     "duration": 0.019571,
     "end_time": "2021-12-05T07:55:41.243711",
     "exception": false,
     "start_time": "2021-12-05T07:55:41.224140",
     "status": "completed"
    },
    "tags": []
   },
   "source": [
    "## 📈 Utilizando o Modelo"
   ]
  },
  {
   "cell_type": "code",
   "execution_count": 113,
   "id": "83c6185f-4a6a-4448-9a74-9f63e5026330",
   "metadata": {},
   "outputs": [
    {
     "data": {
      "application/vnd.jupyter.widget-view+json": {
       "model_id": "9ba2611fb226489eab28c21e303bb8dc",
       "version_major": 2,
       "version_minor": 0
      },
      "text/plain": [
       "HBox(children=(Text(value='', description='Nome do Anime: ', style=DescriptionStyle(description_width='initial…"
      ]
     },
     "metadata": {},
     "output_type": "display_data"
    },
    {
     "data": {
      "application/vnd.jupyter.widget-view+json": {
       "model_id": "e7d7e9c65b0244329b76282c9fccf07e",
       "version_major": 2,
       "version_minor": 0
      },
      "text/plain": [
       "Output()"
      ]
     },
     "metadata": {},
     "output_type": "display_data"
    }
   ],
   "source": [
    "style = {'description_width': 'initial'}\n",
    "text = widgets.Text(description=\"Nome do Anime: \", style=style)\n",
    "button = widgets.Button(description=\"Executar\", )\n",
    "output = widgets.Output()\n",
    "\n",
    "inputs = HBox([text, button])\n",
    "\n",
    "def on_button_clicked(b):\n",
    "    output.clear_output()\n",
    "    with output:\n",
    "        anime_recommendation(text.value)\n",
    "\n",
    "button.on_click(on_button_clicked)\n",
    "display(inputs, output)\n",
    "\n"
   ]
  }
 ],
 "metadata": {
  "kernelspec": {
   "display_name": "Python 3 (ipykernel)",
   "language": "python",
   "name": "python3"
  },
  "language_info": {
   "codemirror_mode": {
    "name": "ipython",
    "version": 3
   },
   "file_extension": ".py",
   "mimetype": "text/x-python",
   "name": "python",
   "nbconvert_exporter": "python",
   "pygments_lexer": "ipython3",
   "version": "3.9.6"
  },
  "papermill": {
   "default_parameters": {},
   "duration": 155.856814,
   "end_time": "2021-12-05T07:55:42.983420",
   "environment_variables": {},
   "exception": null,
   "input_path": "__notebook__.ipynb",
   "output_path": "__notebook__.ipynb",
   "parameters": {},
   "start_time": "2021-12-05T07:53:07.126606",
   "version": "2.3.3"
  },
  "toc-showmarkdowntxt": false
 },
 "nbformat": 4,
 "nbformat_minor": 5
}
